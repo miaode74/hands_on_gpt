{
 "cells": [
  {
   "cell_type": "code",
   "execution_count": 1,
   "id": "b8fe0231",
   "metadata": {},
   "outputs": [],
   "source": [
    "from transformers import PretrainedConfig\n",
    "from typing import List"
   ]
  },
  {
   "cell_type": "code",
   "execution_count": 2,
   "id": "4e11a815",
   "metadata": {},
   "outputs": [],
   "source": [
    "import math\n",
    "import struct\n",
    "import inspect\n",
    "import time\n",
    "from typing import Any, Optional, Tuple, List\n",
    "import numpy as np\n",
    "from torch import nn \n",
    "from transformers import PreTrainedModel \n",
    "import torch\n"
   ]
  },
  {
   "cell_type": "code",
   "execution_count": 3,
   "id": "659ffd2f",
   "metadata": {},
   "outputs": [],
   "source": [
    "class RMSNorm(nn.Module):\n",
    "    def __init__(self, dim: int, eps: float):\n",
    "        super().__init__()\n",
    "        self.eps = eps\n",
    "        self.weight = nn.Parameter(torch.ones(dim))\n",
    "    def forward(self, x):\n",
    "        return self.weight * (x.float() * torch.rsqrt(x.pow(2).mean(-1,keepdim=True)+self.eps)).type_as(x)\n"
   ]
  },
  {
   "cell_type": "code",
   "execution_count": 4,
   "id": "d7aee7d1",
   "metadata": {},
   "outputs": [],
   "source": [
    "def precompute_pos_cis(dim: int, end: int = int(32*1024), theta: float = 1e6):\n",
    "    freqs = 1.0 / (theta ** (torch.arange(0,dim,2)[: (dim//2)].float() / dim))\n",
    "\n",
    "    t = torch.arange(end, device=freqs.device)\n",
    "    freqs = torch.outer(t,freqs).float()\n",
    "\n",
    "    pos_cis = torch.polar(torch.ones_like(freqs),freqs)\n",
    "    return pos_cis \n"
   ]
  },
  {
   "cell_type": "code",
   "execution_count": 5,
   "id": "c5cf500c",
   "metadata": {},
   "outputs": [],
   "source": [
    "def apply_rotray_emb(xq, xk, pos_cis):\n",
    "    def unite_shape(pos_cis,x):\n",
    "        ndim = x.ndim\n",
    "        assert 0 <= 1 < ndim\n",
    "        assert pos_cis.shape == (x.shape[1], x.shape[-1])\n",
    "        shape = [d if i==1 or i == ndim -1 else 1 for i, d in enumerate(x.shape)]\n",
    "        return pos_cis.view(*shape)\n",
    "    \n",
    "    xq_ = torch.view_as_complex(xq.float().reshape(*xq.shape[:-1], -1,2))\n",
    "    xk_ = torch.view_as_complex(xk.float().reshape(*xk.shape[:-1], -1,2))\n",
    "    pos_cis  = unite_shape(pos_cis, xq_)\n",
    "    xq_out = torch.view_as_real(xq_ * pos_cis).flatten(3)\n",
    "    xk_out = torch.view_as_real(xk_ * pos_cis).flatten(3)\n",
    "    return xq_out.type_as(xq), xk_out.type_as(xk)"
   ]
  },
  {
   "cell_type": "code",
   "execution_count": 6,
   "id": "984ee528",
   "metadata": {},
   "outputs": [],
   "source": [
    "def repeat_kv(x: torch.Tensor, n_rep: int):\n",
    "    bs, slen, n_kv_heads, head_dim = x.shape\n",
    "    if n_rep == 1:\n",
    "        return x\n",
    "    return (\n",
    "        x[:,:,None,:].expand(bs, slen, n_kv_heads, n_rep, head_dim).reshape(bs,slen,n_kv_heads * n_rep, head_dim)\n",
    "    )"
   ]
  },
  {
   "cell_type": "code",
   "execution_count": 7,
   "id": "79257462",
   "metadata": {},
   "outputs": [],
   "source": [
    "class LMConfig(PretrainedConfig):\n",
    "    model_type = \"miaodeeai\"\n",
    "    def __init__(self,\n",
    "                 dim: int = 512,\n",
    "                 n_layers: int = 1,\n",
    "                 n_heads: int = 8,\n",
    "                 n_kv_heads: int = 2,\n",
    "                 vocab_size: int = 6400,\n",
    "                 hidden_dim: int = None,\n",
    "                 multiple_of: int = 64,\n",
    "                 max_seq_len: int = 8192,\n",
    "                 rope_theta: int = 1e6,\n",
    "                 dropout: float = 0.0,\n",
    "                 flash_attn: bool = True,\n",
    "                 ###底下的是使用 MoE 的时候才需要的参数\n",
    "                 use_moe: bool = False,\n",
    "                 num_experts_per_tok: int =2,\n",
    "                 num_routed_experts: int=4,\n",
    "                 n_shared_experts: bool = True,\n",
    "                 scoring_func: str = 'softmax',\n",
    "                 aux_loss_alpha: float = 0.1,\n",
    "                 seq_aux: bool = True,\n",
    "                 norm_topk_prob: bool= True,\n",
    "                 **kwargs,\n",
    "                 ):\n",
    "        self.dim = dim\n",
    "        self.n_layers = n_layers\n",
    "        self.n_heads = n_heads\n",
    "        self.n_kv_heads = n_kv_heads\n",
    "        self.vocab_size = vocab_size\n",
    "        self.hidden_dim = hidden_dim \n",
    "        self.multiple_of = multiple_of\n",
    "        self.max_seq_len = max_seq_len\n",
    "        self.rope_theta = rope_theta\n",
    "        self.dropout = dropout\n",
    "        self.flash_attn = flash_attn\n",
    "### 这里是\n",
    "        self.use_moe = use_moe\n",
    "        self.num_experts_per_tok = num_experts_per_tok\n",
    "        self.num_routed_experts = num_routed_experts\n",
    "        self.n_shared_experts = n_shared_experts\n",
    "        self.scoring_func = scoring_func\n",
    "        self.aux_loss_alpha = aux_loss_alpha\n",
    "        self.seq_aux = seq_aux\n",
    "        self.norm_topk_prob = norm_topk_prob\n",
    "        super().__init__(**kwargs)"
   ]
  },
  {
   "cell_type": "code",
   "execution_count": 8,
   "id": "957b313c",
   "metadata": {},
   "outputs": [],
   "source": [
    "import json\n",
    "import random\n",
    "import re\n",
    "import pandas as pd\n",
    "import numpy as np\n",
    "from torch.utils.data import Dataset, DataLoader\n",
    "import torch\n",
    "from sklearn.model_selection import train_test_split\n",
    "import os \n",
    "import ast\n"
   ]
  },
  {
   "cell_type": "code",
   "execution_count": 9,
   "id": "0fe6fbc9",
   "metadata": {},
   "outputs": [],
   "source": [
    "class PretrainDataset(Dataset):\n",
    "    def __init__(self, data_path: str, tokenizer, max_length: int = 512):\n",
    "        super().__init__()\n",
    "        self.tokenizer = tokenizer\n",
    "        self.max_length = max_length\n",
    "        self.samples = self.load_data(data_path)\n",
    "\n",
    "    def load_data(self, data_path: str):\n",
    "        samples = []\n",
    "        with open(data_path,'r', encoding = 'utf-8') as f:\n",
    "            for line_num, line in enumerate(f,1):\n",
    "                data = json.loads(line.strip())\n",
    "                samples.append(data)\n",
    "        return samples \n",
    "    \n",
    "    def __len__(self):\n",
    "        return len(self.samples)\n",
    "    \n",
    "    def __getitem__(self, index: int):\n",
    "        sample = self.samples[index]\n",
    "\n",
    "        text = f\"{self.tokenizer.bos_token}{str(sample['text'])}{self.tokenizer.eos_token}\"\n",
    "\n",
    "        encoding = self.tokenizer(\n",
    "            text,\n",
    "            max_length=self.max_length,\n",
    "            padding='max_length',\n",
    "            truncation=True,\n",
    "            return_tensors='pt'\n",
    "        )\n",
    "\n",
    "        inputs_ids = encoding['input_ids'].squeeze()\n",
    "        loss_mask = (inputs_ids != self.tokenizer.pad_token_id)\n",
    "        X = torch.tensor(inputs_ids[:-1], dtype=torch.long)\n",
    "        Y = torch.tensor(inputs_ids[1:], dtype=torch.long)\n",
    "        loss_mask = torch.tensor(loss_mask[1:], dtype=torch.long)\n",
    "        return X,Y,loss_mask\n",
    "    "
   ]
  },
  {
   "cell_type": "code",
   "execution_count": 10,
   "id": "2cef88b9",
   "metadata": {},
   "outputs": [
    {
     "name": "stdout",
     "output_type": "stream",
     "text": [
      "pos_cis shape: torch.Size([16, 32]), pos_cis[0,0]: (1+0j)\n"
     ]
    }
   ],
   "source": [
    "xq,xk = torch.randn((2,16,4,64)), torch.randn((2,16,4,64))\n",
    "pos_cis = precompute_pos_cis(64,16)\n",
    "print(f\"pos_cis shape: {pos_cis.shape}, pos_cis[0,0]: {pos_cis[0,0]}\")"
   ]
  },
  {
   "cell_type": "code",
   "execution_count": 11,
   "id": "ecb28571",
   "metadata": {},
   "outputs": [
    {
     "name": "stdout",
     "output_type": "stream",
     "text": [
      "xq_rope shape: torch.Size([2, 16, 4, 64]), xk_rope shape: torch.Size([2, 16, 4, 64])\n"
     ]
    }
   ],
   "source": [
    "xq_rope, xk_rope = apply_rotray_emb(xq, xk, pos_cis)\n",
    "print(f\"xq_rope shape: {xq_rope.shape}, xk_rope shape: {xk_rope.shape}\")"
   ]
  },
  {
   "cell_type": "code",
   "execution_count": 12,
   "id": "9501ec8e",
   "metadata": {},
   "outputs": [],
   "source": [
    "from typing import Any, Optional, Tuple, List \n",
    "import torch.nn as nn\n",
    "import math \n",
    "import torch\n",
    "import  torch.nn.functional as F\n",
    "\n",
    "def repeat_kv(x: torch.Tensor, n_rep: int) -> torch.Tensor:\n",
    "    bs, slen, n_kv_heads, head_dim = x.shape\n",
    "    if n_rep ==1:\n",
    "        return x\n",
    "    return (\n",
    "        x[:,:,:,None,:].expand(bs, slen, n_kv_heads, n_rep, head_dim).reshape(bs, slen, n_kv_heads * n_rep, head_dim)\n",
    "    )"
   ]
  },
  {
   "cell_type": "code",
   "execution_count": 13,
   "id": "bf893440",
   "metadata": {},
   "outputs": [],
   "source": [
    "class Attention(nn.Module):\n",
    "    def __init__(self,args: LMConfig):\n",
    "        super().__init__()\n",
    "        self.n_kv_heads = args.n_heads if args.n_kv_heads is None else args.n_kv_heads\n",
    "        assert args.n_heads % args.n_kv_heads == 0\n",
    "        \n",
    "        self.n_local_heads = args.n_heads \n",
    "        self.n_local_kv_heads = args.n_kv_heads \n",
    "        self.n_rep = self.n_local_heads // self.n_local_kv_heads \n",
    "        self.head_dim = args.dim // args.n_heads \n",
    "\n",
    "        # q,k,v, o projection\n",
    "\n",
    "        self.wq = nn.Linear(args.dim, args.n_heads * self.head_dim, bias=False)\n",
    "        self.wk = nn.Linear(args.dim, self.n_kv_heads * self.head_dim, bias=False)\n",
    "        self.wv = nn.Linear(args.dim, self.n_kv_heads * self.head_dim, bias=False)\n",
    "        self.wo = nn.Linear(args.n_heads * self.head_dim, args.dim, bias=False)\n",
    "        self.attn_dropout = nn.Dropout(args.dropout)\n",
    "        self.resid_dropout = nn.Dropout(args.dropout)\n",
    "        self.dropout = args.dropout\n",
    "        self.flash = hasattr(torch.nn.functional, 'scaled_dot_product_attention') and args.flash_attn\n",
    "        mask = torch.full((1,1,args.max_seq_len, args.max_seq_len), float('-inf'))\n",
    "        mask = torch.tril(mask, diagonal=1)\n",
    "        self.register_buffer('mask', mask, persistent=False)\n",
    "\n",
    "    def forward(self, x: torch.Tensor, pos_cis: torch.Tensor, past_key_value: Optional[Tuple[torch.Tensor, torch.Tensor]]=None,\n",
    "                use_cache=False):\n",
    "        bsz, seq_len, _ = x.shape\n",
    "\n",
    "        ####Forward Q,K,V && RoPE #### \n",
    "        xq, xk, xv = self.wq(x), self.wk(x), self.wv(x)\n",
    "        xq = xq.view(bsz, seq_len, self.n_local_heads, self.head_dim)\n",
    "        xk = xk.view(bsz, seq_len, self.n_local_kv_heads, self.head_dim)\n",
    "        xv = xv.view(bsz, seq_len, self.n_local_kv_heads, self.head_dim)\n",
    "        xq, xk = apply_rotray_emb(xq, xk, pos_cis)\n",
    "\n",
    "        ###E KV Cache ####\n",
    "        if past_key_value is not None:\n",
    "            xk = torch.cat([past_key_value[0], xk], dim=1)\n",
    "            xv = torch.cat([past_key_value[1], xv], dim=1)\n",
    "\n",
    "        past_kv = (xk, xv) if use_cache else None\n",
    "        xq, xk, xv = (\n",
    "            xq.transpose(1,2),\n",
    "            repeat_kv(xk, self.n_rep).transpose(1,2),\n",
    "            repeat_kv(xv, self.n_rep).transpose(1,2)\n",
    "        )\n",
    "\n",
    "        #### Scaled Dot Production ####\n",
    "        if self.flash and seq_len !=1:\n",
    "            dropout_p = self.dropout if self.training else 0.0\n",
    "            output = F.scaled_dot_product_attention(xq,xk,xv,\n",
    "                                                    attn_mask = None,\n",
    "                                                    dropout_p = dropout_p,\n",
    "                                                    is_causal = True)\n",
    "        else:\n",
    "            scores = (xq @ xk.transpose(-2, -1)) / math.sqrt(self.head_dim)\n",
    "            scores += self.mask[:,:,:seq_len,:seq_len]\n",
    "            scores = F.softmax(scores.float(), dim=-1).type_as(xq)\n",
    "            scores = self.attn_dropout(scores)\n",
    "            output = scores @ xv\n",
    "\n",
    "        output = output.transpose(1,2).reshape(bsz, seq_len, -1)\n",
    "        output = self.resid_dropout(self.wo(output))\n",
    "        return output, past_kv\n"
   ]
  },
  {
   "cell_type": "code",
   "execution_count": 14,
   "id": "4bf8acc5",
   "metadata": {},
   "outputs": [],
   "source": [
    "# LMConfig = LMConfig(n_layers=2)\n",
    "# attn = Attention(LMConfig)\n",
    "# x = torch.randn((4,16,512)) # (batch_size, seq_len, embed_dim)\n",
    "# pos_cis = precompute_pos_cis(64,16) # (head_dim, batch_size) 其中 head_dim = embed_dim // n_heads \n",
    "# output , past_kv = attn(x, pos_cis=pos_cis, use_cache=True)\n",
    "\n",
    "# print(f\"输入张量x 的形状 {x.shape}, RoPE 旋转角度: pos_cis.shape = {pos_cis.shape}\")\n",
    "# print(f\"输出张量 output 的形状: {output.shape}, kv_cache 的形状: {past_kv[0].shape}, size_value = {past_kv[1].shape}\")"
   ]
  },
  {
   "cell_type": "code",
   "execution_count": 17,
   "id": "64e4457b",
   "metadata": {},
   "outputs": [],
   "source": [
    "class FeedForward(nn.Module):\n",
    "    def __init__(self, config: LMConfig):\n",
    "        super().__init__()\n",
    "        if config.hidden_dim is None:\n",
    "            hidden_dim = config.dim * 4\n",
    "            hidden_dim = int(2* hidden_dim /3)\n",
    "            config.hidden_dim = config.multiple_of * ((hidden_dim + config.multiple_of -1) // config.multiple_of)\n",
    "        self.w1 = nn.Linear(config.dim, config.hidden_dim, bias=False)\n",
    "        self.w2 = nn.Linear(config.hidden_dim, config.dim, bias=False)\n",
    "        self.w3 = nn.Linear(config.dim, config.hidden_dim, bias=False)\n",
    "        self.dropout = nn.Dropout(config.dropout)\n",
    "\n",
    "    def forward(self, x):\n",
    "        return self.dropout(self.w2(F.silu(self.w1(x)) * self.w3(x)))\n",
    "        return x"
   ]
  },
  {
   "cell_type": "code",
   "execution_count": null,
   "id": "2859c4a4",
   "metadata": {},
   "outputs": [
    {
     "name": "stdout",
     "output_type": "stream",
     "text": [
      "输入张量x 的形状 torch.Size([4, 16, 512]), 输出张量 output 的形状: torch.Size([4, 16, 512])\n"
     ]
    }
   ],
   "source": [
    "ffn = FeedForward(LMConfig(n_layers=2))\n",
    "x = torch.randn((4,16,512)) # batch_size, seq_len, embed_dim\n",
    "output = ffn(x)\n",
    "print(f\"输入张量x 的形状 {x.shape}, 输出张量 output 的形状: {output.shape}\")"
   ]
  },
  {
   "cell_type": "code",
   "execution_count": null,
   "id": "17e31765",
   "metadata": {},
   "outputs": [],
   "source": []
  },
  {
   "cell_type": "code",
   "execution_count": null,
   "id": "d606617c",
   "metadata": {},
   "outputs": [],
   "source": []
  }
 ],
 "metadata": {
  "kernelspec": {
   "display_name": "pretrained",
   "language": "python",
   "name": "python3"
  },
  "language_info": {
   "codemirror_mode": {
    "name": "ipython",
    "version": 3
   },
   "file_extension": ".py",
   "mimetype": "text/x-python",
   "name": "python",
   "nbconvert_exporter": "python",
   "pygments_lexer": "ipython3",
   "version": "3.10.18"
  }
 },
 "nbformat": 4,
 "nbformat_minor": 5
}
